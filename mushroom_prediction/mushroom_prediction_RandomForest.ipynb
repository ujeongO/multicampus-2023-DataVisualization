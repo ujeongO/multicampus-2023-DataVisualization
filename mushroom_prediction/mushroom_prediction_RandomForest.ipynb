{
 "cells": [
  {
   "cell_type": "markdown",
   "id": "57635710-6cb4-4f34-b1d4-2ca028866527",
   "metadata": {},
   "source": [
    "## Decision Tree Classifier를 이용한 버섯 식용 여부 예측 \n",
    "\n",
    "원본 데이터 셋 링크: https://www.kaggle.com/datasets/uciml/mushroom-classification/data  \n",
    "\n",
    "버섯에 대한 메타 데이터가 주어지고, 먹을 수 있는지 없는지 여부를 표시한 데이터가 있습니다. 지금까지 배운 내용들을 활용해서 예측 모델을 만들고, 아래 포맷으로 submission을 만들어서 제출해보세요."
   ]
  },
  {
   "cell_type": "markdown",
   "id": "e68e3f2f-184c-4d6a-bbce-6f4b52ae91ad",
   "metadata": {
    "tags": []
   },
   "source": [
    "### 요구사항\n",
    "\n",
    "- 데이터 특성 파악하기\n",
    "- 데이터 전처리하기 \n",
    "- decision tree 계열 알고리즘을 사용하여 분류 모델 학습시키고 교차 검증하기\n",
    "- 테스트 셋에 대하여 인퍼런스 한 뒤, 적어도 한번 결과 제출하기 "
   ]
  },
  {
   "cell_type": "code",
   "execution_count": 1,
   "id": "48cfff35-6d36-4ecb-bdcb-4f3758fd02dc",
   "metadata": {},
   "outputs": [],
   "source": [
    "import pandas as pd\n",
    "import seaborn as sns\n",
    "from matplotlib import pyplot as plt"
   ]
  },
  {
   "cell_type": "markdown",
   "id": "28b8de56",
   "metadata": {},
   "source": [
    "Attribute Information: (classes: edible=e, poisonous=p)\n",
    "\n",
    "- cap-shape: bell=b,conical=c,convex=x,flat=f, knobbed=k,sunken=s\n",
    "- cap-surface: fibrous=f,grooves=g,scaly=y,smooth=s\n",
    "- cap-color: brown=n,buff=b,cinnamon=c,gray=g,green=r,pink=p,purple=u,red=e,white=w,yellow=y\n",
    "- bruises: bruises=t,no=f\n",
    "- odor: almond=a,anise=l,creosote=c,fishy=y,foul=f,musty=m,none=n,pungent=p,spicy=s\n",
    "- gill-attachment: attached=a,descending=d,free=f,notched=n\n",
    "- gill-spacing: close=c,crowded=w,distant=d\n",
    "- gill-size: broad=b,narrow=n\n",
    "- gill-color: black=k,brown=n,buff=b,chocolate=h,gray=g, green=r,orange=o,pink=p,purple=u,red=e,white=w,yellow=y\n",
    "- stalk-shape: enlarging=e,tapering=t\n",
    "- stalk-root: bulbous=b,club=c,cup=u,equal=e,rhizomorphs=z,rooted=r,missing=?\n",
    "- stalk-surface-above-ring: fibrous=f,scaly=y,silky=k,smooth=s\n",
    "- stalk-surface-below-ring: fibrous=f,scaly=y,silky=k,smooth=s\n",
    "- stalk-color-above-ring: brown=n,buff=b,cinnamon=c,gray=g,orange=o,pink=p,red=e,white=w,yellow=y\n",
    "- stalk-color-below-ring: brown=n,buff=b,cinnamon=c,gray=g,orange=o,pink=p,red=e,white=w,yellow=y\n",
    "- veil-type: partial=p,universal=u\n",
    "- veil-color: brown=n,orange=o,white=w,yellow=y\n",
    "- ring-number: none=n,one=o,two=t\n",
    "- ring-type: cobwebby=c,evanescent=e,flaring=f,large=l,none=n,pendant=p,sheathing=s,zone=z\n",
    "- spore-print-color: black=k,brown=n,buff=b,chocolate=h,green=r,orange=o,purple=u,white=w,yellow=y\n",
    "- population: abundant=a,clustered=c,numerous=n,scattered=s,several=v,solitary=y\n",
    "- habitat: grasses=g,leaves=l,meadows=m,paths=p,urban=u,waste=w,woods=d"
   ]
  },
  {
   "cell_type": "markdown",
   "id": "de4d4a1d",
   "metadata": {},
   "source": [
    "### 데이터 가져오기"
   ]
  },
  {
   "cell_type": "code",
   "execution_count": 2,
   "id": "2bc58ab5-a49b-4705-9737-f40768cec89d",
   "metadata": {},
   "outputs": [],
   "source": [
    "train_path = \"mushroom train set 경로\"\n",
    "test_path = \"mushroom test set 경로\"\n",
    "\n",
    "train_df = pd.read_csv(train_path)\n",
    "test_df = pd.read_csv(test_path)"
   ]
  },
  {
   "cell_type": "code",
   "execution_count": 1,
   "id": "4a97d083",
   "metadata": {},
   "outputs": [],
   "source": [
    "train_df"
   ]
  },
  {
   "cell_type": "code",
   "execution_count": 2,
   "id": "ee1208cd",
   "metadata": {},
   "outputs": [],
   "source": [
    "test_df"
   ]
  },
  {
   "cell_type": "code",
   "execution_count": 3,
   "id": "ce1436e3",
   "metadata": {},
   "outputs": [],
   "source": [
    "train_df.info()"
   ]
  },
  {
   "cell_type": "code",
   "execution_count": 4,
   "id": "362725af",
   "metadata": {},
   "outputs": [],
   "source": [
    "train_df.isnull().sum()"
   ]
  },
  {
   "cell_type": "markdown",
   "id": "0748f4f2",
   "metadata": {},
   "source": [
    "### 전처리"
   ]
  },
  {
   "cell_type": "code",
   "execution_count": 7,
   "id": "e5195094",
   "metadata": {},
   "outputs": [],
   "source": [
    "raw = pd.concat([train_df, test_df])"
   ]
  },
  {
   "cell_type": "code",
   "execution_count": 8,
   "id": "be37cc94",
   "metadata": {},
   "outputs": [],
   "source": [
    "df = raw[:]"
   ]
  },
  {
   "cell_type": "code",
   "execution_count": 10,
   "id": "959a8853",
   "metadata": {},
   "outputs": [],
   "source": [
    "df = df.reset_index(drop=True)"
   ]
  },
  {
   "cell_type": "code",
   "execution_count": 6,
   "id": "6ff6ba40",
   "metadata": {},
   "outputs": [],
   "source": [
    "df"
   ]
  },
  {
   "cell_type": "code",
   "execution_count": 7,
   "id": "57c1ad05",
   "metadata": {},
   "outputs": [],
   "source": [
    "df.shape"
   ]
  },
  {
   "cell_type": "code",
   "execution_count": 8,
   "id": "84aff6d7",
   "metadata": {},
   "outputs": [],
   "source": [
    "df.columns"
   ]
  },
  {
   "cell_type": "code",
   "execution_count": 9,
   "id": "f282747b",
   "metadata": {},
   "outputs": [],
   "source": [
    "# 사이즈 설정\n",
    "fig, axes = plt.subplots(nrows=3, ncols=3, figsize=(15, 13))\n",
    "\n",
    "capShape_bar = sns.countplot(x=\"cap-shape\", hue=\"class\", data=df, ax=axes[0][0])\n",
    "\n",
    "capSurface_bar = sns.countplot(x=\"cap-surface\", hue=\"class\", data=df, ax=axes[0][1])\n",
    "\n",
    "capColor_bar = sns.countplot(x=\"cap-color\", hue=\"class\", data=df, ax=axes[0][2])\n",
    "\n",
    "bruises_bar = sns.countplot(x=\"bruises\", hue=\"class\", data=df, ax=axes[1][0])\n",
    "# bruises_bar.set_xticklabels([\"True\", \"False\"])\n",
    "\n",
    "odor_bar = sns.countplot(x=\"odor\", hue=\"class\", data=df, ax=axes[1][1])\n",
    "\n",
    "gillAttachment_bar = sns.countplot(x=\"gill-attachment\", hue=\"class\", data=df, ax=axes[1][2])\n",
    "\n",
    "gillSpacing_bar = sns.countplot(x=\"gill-spacing\", hue=\"class\", data=df, ax=axes[2][0])\n",
    "\n",
    "gillSize_bar = sns.countplot(x=\"gill-size\", hue=\"class\", data=df, ax=axes[2][1])\n",
    "\n",
    "gillColor_bar = sns.countplot(x=\"gill-color\", hue=\"class\", data=df, ax=axes[2][2])\n",
    "\n",
    "fig.tight_layout()\n",
    "plt.show()"
   ]
  },
  {
   "cell_type": "code",
   "execution_count": 10,
   "id": "409753ab",
   "metadata": {},
   "outputs": [],
   "source": [
    "# 사이즈 설정\n",
    "fig, axes = plt.subplots(nrows=3, ncols=3, figsize=(15, 13))\n",
    "\n",
    "stalkShape_bar = sns.countplot(x=\"stalk-shape\", hue=\"class\", data=df, ax=axes[0][0])\n",
    "\n",
    "stalkRoot_bar = sns.countplot(x=\"stalk-root\", hue=\"class\", data=df, ax=axes[0][1])\n",
    "\n",
    "stalkSurARing_bar = sns.countplot(x=\"stalk-surface-above-ring\", hue=\"class\", data=df, ax=axes[0][2])\n",
    "\n",
    "stalkSurBRing_bar = sns.countplot(x=\"stalk-surface-below-ring\", hue=\"class\", data=df, ax=axes[1][0])\n",
    "\n",
    "stalkCoARing_bar = sns.countplot(x=\"stalk-color-above-ring\", hue=\"class\", data=df, ax=axes[1][1])\n",
    "\n",
    "stalkCoBRing_bar = sns.countplot(x=\"stalk-color-below-ring\", hue=\"class\", data=df, ax=axes[1][2])\n",
    "\n",
    "veilType_bar = sns.countplot(x=\"veil-type\", hue=\"class\", data=df, ax=axes[2][0])\n",
    "\n",
    "veilColor_bar = sns.countplot(x=\"veil-color\", hue=\"class\", data=df, ax=axes[2][1])\n",
    "\n",
    "class_bar = sns.countplot(x=\"class\", data=df, ax=axes[2][2])\n",
    "\n",
    "fig.tight_layout()\n",
    "plt.show()"
   ]
  },
  {
   "cell_type": "code",
   "execution_count": 11,
   "id": "f65c8e4a",
   "metadata": {},
   "outputs": [],
   "source": [
    "# 사이즈 설정\n",
    "fig, axes = plt.subplots(nrows=2, ncols=3, figsize=(15, 10))\n",
    "\n",
    "ringNumber_bar = sns.countplot(x=\"ring-number\", hue=\"class\", data=df, ax=axes[0][0])\n",
    "\n",
    "ringType_bar = sns.countplot(x=\"ring-type\", hue=\"class\", data=df, ax=axes[0][1])\n",
    "\n",
    "sporePColor_bar = sns.countplot(x=\"spore-print-color\", hue=\"class\", data=df, ax=axes[0][2])\n",
    "\n",
    "population_bar = sns.countplot(x=\"population\", hue=\"class\", data=df, ax=axes[1][0])\n",
    "\n",
    "habitat_bar = sns.countplot(x=\"habitat\", hue=\"class\", data=df, ax=axes[1][1])\n",
    "\n",
    "fig.tight_layout()\n",
    "plt.show()"
   ]
  },
  {
   "cell_type": "code",
   "execution_count": null,
   "id": "d2f58ec2-6c72-4e08-a2a7-635bed9a0a7b",
   "metadata": {},
   "outputs": [],
   "source": []
  },
  {
   "cell_type": "markdown",
   "id": "fff0504f",
   "metadata": {},
   "source": [
    "### Top3 만 뽑아서 Label Encoding"
   ]
  },
  {
   "cell_type": "code",
   "execution_count": 12,
   "id": "9a63f809",
   "metadata": {},
   "outputs": [],
   "source": [
    "## cap-shape\n",
    "# df[\"cap-shape\"]"
   ]
  },
  {
   "cell_type": "code",
   "execution_count": 13,
   "id": "d02eec61",
   "metadata": {},
   "outputs": [],
   "source": [
    "# sns.countplot(x=\"cap-color\", data=df)"
   ]
  },
  {
   "cell_type": "code",
   "execution_count": 20,
   "id": "1e9dfda8",
   "metadata": {},
   "outputs": [],
   "source": [
    "# cap-shape\n",
    "df.loc[(df[\"cap-shape\"]=='b')|(df[\"cap-shape\"]=='s')|(df[\"cap-shape\"]=='c'), \"cap-shape\"] = \"ETC\""
   ]
  },
  {
   "cell_type": "code",
   "execution_count": 21,
   "id": "0ea92a4d",
   "metadata": {},
   "outputs": [],
   "source": [
    "# cap-color\n",
    "df.loc[(df[\"cap-color\"]=='y')|(df[\"cap-color\"]=='w')|(df[\"cap-color\"]=='b')|(df[\"cap-color\"]=='p')|(df[\"cap-color\"]=='c')|(df[\"cap-color\"]=='u')|(df[\"cap-color\"]=='r'), \"cap-color\"] = \"ETC\""
   ]
  },
  {
   "cell_type": "code",
   "execution_count": 22,
   "id": "ac61861c",
   "metadata": {},
   "outputs": [],
   "source": [
    "# odor\n",
    "df.loc[(df[\"odor\"]=='s')|(df[\"odor\"]=='a')|(df[\"odor\"]=='l')|(df[\"odor\"]=='p')|(df[\"odor\"]=='c')|(df[\"odor\"]=='m'), \"odor\"] = \"ETC\""
   ]
  },
  {
   "cell_type": "code",
   "execution_count": 23,
   "id": "9961b2cc",
   "metadata": {},
   "outputs": [],
   "source": [
    "# gill-color\n",
    "df.loc[(df[\"gill-color\"]=='n')|(df[\"gill-color\"]=='g')|(df[\"gill-color\"]=='h')|(df[\"gill-color\"]=='u')|(df[\"gill-color\"]=='k')|(df[\"gill-color\"]=='e')|(df[\"gill-color\"]=='y')|(df[\"gill-color\"]=='o')|(df[\"gill-color\"]=='r'), \"gill-color\"] = \"ETC\""
   ]
  },
  {
   "cell_type": "code",
   "execution_count": 24,
   "id": "b5338823",
   "metadata": {},
   "outputs": [],
   "source": [
    "# stalk-root\n",
    "df.loc[(df[\"stalk-root\"]=='c')|(df[\"stalk-root\"]=='r'), \"stalk-root\"] = \"ETC\""
   ]
  },
  {
   "cell_type": "code",
   "execution_count": 25,
   "id": "9d06a532",
   "metadata": {},
   "outputs": [],
   "source": [
    "# stalk-color-above-ring\n",
    "df.loc[(df[\"stalk-color-above-ring\"]=='n')|(df[\"stalk-color-above-ring\"]=='b')|(df[\"stalk-color-above-ring\"]=='o')|(df[\"stalk-color-above-ring\"]=='e')|(df[\"stalk-color-above-ring\"]=='c')|(df[\"stalk-color-above-ring\"]=='y'), \"stalk-color-above-ring\"] = \"ETC\""
   ]
  },
  {
   "cell_type": "code",
   "execution_count": 26,
   "id": "5e269fba",
   "metadata": {},
   "outputs": [],
   "source": [
    "# stalk-color-below-ring\n",
    "df.loc[(df[\"stalk-color-below-ring\"]=='n')|(df[\"stalk-color-below-ring\"]=='b')|(df[\"stalk-color-below-ring\"]=='o')|(df[\"stalk-color-below-ring\"]=='e')|(df[\"stalk-color-below-ring\"]=='c')|(df[\"stalk-color-below-ring\"]=='y'), \"stalk-color-below-ring\"] = \"ETC\""
   ]
  },
  {
   "cell_type": "code",
   "execution_count": 27,
   "id": "ce3f202a",
   "metadata": {},
   "outputs": [],
   "source": [
    "# ring-type\n",
    "df.loc[(df[\"ring-type\"]=='f')|(df[\"ring-type\"]=='n'), \"ring-type\"] = \"ETC\""
   ]
  },
  {
   "cell_type": "code",
   "execution_count": 28,
   "id": "08f5ced4",
   "metadata": {},
   "outputs": [],
   "source": [
    "# spore-print-color\n",
    "df.loc[(df[\"spore-print-color\"]=='h')|(df[\"spore-print-color\"]=='r')|(df[\"spore-print-color\"]=='r')|(df[\"spore-print-color\"]=='u')|(df[\"spore-print-color\"]=='o')|(df[\"spore-print-color\"]=='y')|(df[\"spore-print-color\"]=='b'), \"spore-print-color\"] = \"ETC\""
   ]
  },
  {
   "cell_type": "code",
   "execution_count": 29,
   "id": "b3588445",
   "metadata": {},
   "outputs": [],
   "source": [
    "# population\n",
    "df.loc[(df[\"population\"]=='n')|(df[\"population\"]=='a')|(df[\"population\"]=='c'), \"population\"] = \"ETC\""
   ]
  },
  {
   "cell_type": "code",
   "execution_count": 30,
   "id": "4af27df1",
   "metadata": {},
   "outputs": [],
   "source": [
    "# habitat\n",
    "df.loc[(df[\"habitat\"]=='l')|(df[\"habitat\"]=='u')|(df[\"habitat\"]=='m')|(df[\"habitat\"]=='w'), \"habitat\"] = \"ETC\""
   ]
  },
  {
   "cell_type": "code",
   "execution_count": 14,
   "id": "17819ef2",
   "metadata": {},
   "outputs": [],
   "source": [
    "# 바뀐 habitat value_count 찍어보기\n",
    "df[\"habitat\"].value_counts()"
   ]
  },
  {
   "cell_type": "code",
   "execution_count": 15,
   "id": "5d729a7a",
   "metadata": {},
   "outputs": [],
   "source": [
    "df"
   ]
  },
  {
   "cell_type": "code",
   "execution_count": 20,
   "id": "00dc8de8",
   "metadata": {},
   "outputs": [],
   "source": [
    "# label encoding \n",
    "from sklearn.preprocessing import LabelEncoder\n",
    "\n",
    "label_encoder = LabelEncoder()\n",
    "for i, column in enumerate(df.columns):\n",
    "    if i < 2:\n",
    "        continue\n",
    "    df[column] = label_encoder.fit_transform(df[column])\n",
    "    print(column, label_encoder.classes_)"
   ]
  },
  {
   "cell_type": "markdown",
   "id": "e9ebd4ef",
   "metadata": {},
   "source": [
    "### heatmap"
   ]
  },
  {
   "cell_type": "code",
   "execution_count": 16,
   "id": "5227f500",
   "metadata": {},
   "outputs": [],
   "source": [
    "# 히트맵용 label encoding \n",
    "from sklearn.preprocessing import LabelEncoder\n",
    "\n",
    "label_encoder = LabelEncoder()\n",
    "for i, column in enumerate(df.columns):\n",
    "    if i < 1:\n",
    "        continue\n",
    "    df[column] = label_encoder.fit_transform(df[column])\n",
    "    print(column, label_encoder.classes_)"
   ]
  },
  {
   "cell_type": "code",
   "execution_count": 17,
   "id": "a1ec34e9",
   "metadata": {},
   "outputs": [],
   "source": [
    "df"
   ]
  },
  {
   "cell_type": "code",
   "execution_count": 37,
   "id": "f0877b0b",
   "metadata": {},
   "outputs": [],
   "source": [
    "df_heatmap = df.iloc[:, 1:]"
   ]
  },
  {
   "cell_type": "code",
   "execution_count": 18,
   "id": "c4347452",
   "metadata": {},
   "outputs": [],
   "source": [
    "df_heatmap.corr()"
   ]
  },
  {
   "cell_type": "code",
   "execution_count": 19,
   "id": "d7357bf8",
   "metadata": {},
   "outputs": [],
   "source": [
    "plt.figure(figsize=(10,8))\n",
    "# 양의 선형관계 -> 빨강, 음의 선형관계 -> 파랑, 0에 가까움 -> 하양 인 cmap 설정(?)\n",
    "cmap=sns.diverging_palette(240,10,n=9, as_cmap=True)\n",
    "sns.heatmap(\n",
    "    data=df_heatmap.corr(),\n",
    "#     annot=True,\n",
    "#     fmt=\".2f\",\n",
    "    linewidth=0.5,\n",
    "    annot_kws={\"size\":8},\n",
    "    cmap=cmap\n",
    ")"
   ]
  },
  {
   "cell_type": "markdown",
   "id": "326bcefe",
   "metadata": {},
   "source": [
    "### scaling"
   ]
  },
  {
   "cell_type": "code",
   "execution_count": 40,
   "id": "12b1d331",
   "metadata": {},
   "outputs": [],
   "source": [
    "from sklearn.preprocessing import StandardScaler\n",
    "\n",
    "standard_scaler = StandardScaler()"
   ]
  },
  {
   "cell_type": "code",
   "execution_count": 41,
   "id": "699e8b19",
   "metadata": {},
   "outputs": [],
   "source": [
    "column = df.columns"
   ]
  },
  {
   "cell_type": "code",
   "execution_count": 42,
   "id": "388e6340",
   "metadata": {},
   "outputs": [],
   "source": [
    "column = column[2:]"
   ]
  },
  {
   "cell_type": "code",
   "execution_count": 21,
   "id": "a91f9a35",
   "metadata": {},
   "outputs": [],
   "source": [
    "column"
   ]
  },
  {
   "cell_type": "code",
   "execution_count": 44,
   "id": "e8373b11",
   "metadata": {},
   "outputs": [],
   "source": [
    "df[column] = standard_scaler.fit_transform(df[column])"
   ]
  },
  {
   "cell_type": "code",
   "execution_count": 22,
   "id": "36e4a461",
   "metadata": {},
   "outputs": [],
   "source": [
    "df"
   ]
  },
  {
   "cell_type": "markdown",
   "id": "8b4ecb38",
   "metadata": {},
   "source": [
    "### train, test set 나누기"
   ]
  },
  {
   "cell_type": "code",
   "execution_count": 46,
   "id": "fffdc166",
   "metadata": {},
   "outputs": [],
   "source": [
    "train_df = df[:6500]\n",
    "test_df = df[6500:]"
   ]
  },
  {
   "cell_type": "code",
   "execution_count": 47,
   "id": "0d889f44",
   "metadata": {},
   "outputs": [
    {
     "data": {
      "text/html": [
       "<div>\n",
       "<style scoped>\n",
       "    .dataframe tbody tr th:only-of-type {\n",
       "        vertical-align: middle;\n",
       "    }\n",
       "\n",
       "    .dataframe tbody tr th {\n",
       "        vertical-align: top;\n",
       "    }\n",
       "\n",
       "    .dataframe thead th {\n",
       "        text-align: right;\n",
       "    }\n",
       "</style>\n",
       "<table border=\"1\" class=\"dataframe\">\n",
       "  <thead>\n",
       "    <tr style=\"text-align: right;\">\n",
       "      <th></th>\n",
       "      <th>mushroom_id</th>\n",
       "      <th>class</th>\n",
       "      <th>cap-shape</th>\n",
       "      <th>cap-surface</th>\n",
       "      <th>cap-color</th>\n",
       "      <th>bruises</th>\n",
       "      <th>odor</th>\n",
       "      <th>gill-attachment</th>\n",
       "      <th>gill-spacing</th>\n",
       "      <th>gill-size</th>\n",
       "      <th>...</th>\n",
       "      <th>stalk-surface-below-ring</th>\n",
       "      <th>stalk-color-above-ring</th>\n",
       "      <th>stalk-color-below-ring</th>\n",
       "      <th>veil-type</th>\n",
       "      <th>veil-color</th>\n",
       "      <th>ring-number</th>\n",
       "      <th>ring-type</th>\n",
       "      <th>spore-print-color</th>\n",
       "      <th>population</th>\n",
       "      <th>habitat</th>\n",
       "    </tr>\n",
       "  </thead>\n",
       "  <tbody>\n",
       "    <tr>\n",
       "      <th>0</th>\n",
       "      <td>0</td>\n",
       "      <td>1</td>\n",
       "      <td>1.020564</td>\n",
       "      <td>0.140128</td>\n",
       "      <td>1.271378</td>\n",
       "      <td>1.185917</td>\n",
       "      <td>-1.481934</td>\n",
       "      <td>0.162896</td>\n",
       "      <td>-0.438864</td>\n",
       "      <td>1.494683</td>\n",
       "      <td>...</td>\n",
       "      <td>0.586385</td>\n",
       "      <td>0.753195</td>\n",
       "      <td>0.767702</td>\n",
       "      <td>0.0</td>\n",
       "      <td>0.142037</td>\n",
       "      <td>-0.256132</td>\n",
       "      <td>0.944826</td>\n",
       "      <td>-0.524335</td>\n",
       "      <td>-0.836896</td>\n",
       "      <td>-1.395586</td>\n",
       "    </tr>\n",
       "    <tr>\n",
       "      <th>1</th>\n",
       "      <td>1</td>\n",
       "      <td>0</td>\n",
       "      <td>1.020564</td>\n",
       "      <td>0.140128</td>\n",
       "      <td>-1.239645</td>\n",
       "      <td>1.185917</td>\n",
       "      <td>-1.481934</td>\n",
       "      <td>0.162896</td>\n",
       "      <td>-0.438864</td>\n",
       "      <td>-0.669038</td>\n",
       "      <td>...</td>\n",
       "      <td>0.586385</td>\n",
       "      <td>0.753195</td>\n",
       "      <td>0.767702</td>\n",
       "      <td>0.0</td>\n",
       "      <td>0.142037</td>\n",
       "      <td>-0.256132</td>\n",
       "      <td>0.944826</td>\n",
       "      <td>0.354315</td>\n",
       "      <td>-1.909285</td>\n",
       "      <td>0.689324</td>\n",
       "    </tr>\n",
       "    <tr>\n",
       "      <th>2</th>\n",
       "      <td>2</td>\n",
       "      <td>0</td>\n",
       "      <td>-1.873013</td>\n",
       "      <td>0.140128</td>\n",
       "      <td>-1.239645</td>\n",
       "      <td>1.185917</td>\n",
       "      <td>-1.481934</td>\n",
       "      <td>0.162896</td>\n",
       "      <td>-0.438864</td>\n",
       "      <td>-0.669038</td>\n",
       "      <td>...</td>\n",
       "      <td>0.586385</td>\n",
       "      <td>0.753195</td>\n",
       "      <td>0.767702</td>\n",
       "      <td>0.0</td>\n",
       "      <td>0.142037</td>\n",
       "      <td>-0.256132</td>\n",
       "      <td>0.944826</td>\n",
       "      <td>0.354315</td>\n",
       "      <td>-1.909285</td>\n",
       "      <td>-1.395586</td>\n",
       "    </tr>\n",
       "    <tr>\n",
       "      <th>3</th>\n",
       "      <td>3</td>\n",
       "      <td>1</td>\n",
       "      <td>1.020564</td>\n",
       "      <td>0.953270</td>\n",
       "      <td>-1.239645</td>\n",
       "      <td>1.185917</td>\n",
       "      <td>-1.481934</td>\n",
       "      <td>0.162896</td>\n",
       "      <td>-0.438864</td>\n",
       "      <td>1.494683</td>\n",
       "      <td>...</td>\n",
       "      <td>0.586385</td>\n",
       "      <td>0.753195</td>\n",
       "      <td>0.767702</td>\n",
       "      <td>0.0</td>\n",
       "      <td>0.142037</td>\n",
       "      <td>-0.256132</td>\n",
       "      <td>0.944826</td>\n",
       "      <td>-0.524335</td>\n",
       "      <td>-0.836896</td>\n",
       "      <td>-1.395586</td>\n",
       "    </tr>\n",
       "    <tr>\n",
       "      <th>4</th>\n",
       "      <td>4</td>\n",
       "      <td>0</td>\n",
       "      <td>1.020564</td>\n",
       "      <td>0.140128</td>\n",
       "      <td>0.434370</td>\n",
       "      <td>-0.843230</td>\n",
       "      <td>0.718218</td>\n",
       "      <td>0.162896</td>\n",
       "      <td>2.278612</td>\n",
       "      <td>-0.669038</td>\n",
       "      <td>...</td>\n",
       "      <td>0.586385</td>\n",
       "      <td>0.753195</td>\n",
       "      <td>0.767702</td>\n",
       "      <td>0.0</td>\n",
       "      <td>0.142037</td>\n",
       "      <td>-0.256132</td>\n",
       "      <td>-1.217362</td>\n",
       "      <td>0.354315</td>\n",
       "      <td>-1.909285</td>\n",
       "      <td>0.689324</td>\n",
       "    </tr>\n",
       "    <tr>\n",
       "      <th>...</th>\n",
       "      <td>...</td>\n",
       "      <td>...</td>\n",
       "      <td>...</td>\n",
       "      <td>...</td>\n",
       "      <td>...</td>\n",
       "      <td>...</td>\n",
       "      <td>...</td>\n",
       "      <td>...</td>\n",
       "      <td>...</td>\n",
       "      <td>...</td>\n",
       "      <td>...</td>\n",
       "      <td>...</td>\n",
       "      <td>...</td>\n",
       "      <td>...</td>\n",
       "      <td>...</td>\n",
       "      <td>...</td>\n",
       "      <td>...</td>\n",
       "      <td>...</td>\n",
       "      <td>...</td>\n",
       "      <td>...</td>\n",
       "      <td>...</td>\n",
       "    </tr>\n",
       "    <tr>\n",
       "      <th>6495</th>\n",
       "      <td>6495</td>\n",
       "      <td>1</td>\n",
       "      <td>-0.908487</td>\n",
       "      <td>0.953270</td>\n",
       "      <td>1.271378</td>\n",
       "      <td>-0.843230</td>\n",
       "      <td>1.818294</td>\n",
       "      <td>0.162896</td>\n",
       "      <td>-0.438864</td>\n",
       "      <td>1.494683</td>\n",
       "      <td>...</td>\n",
       "      <td>0.586385</td>\n",
       "      <td>0.753195</td>\n",
       "      <td>-0.136184</td>\n",
       "      <td>0.0</td>\n",
       "      <td>0.142037</td>\n",
       "      <td>-0.256132</td>\n",
       "      <td>-1.217362</td>\n",
       "      <td>1.232966</td>\n",
       "      <td>0.235493</td>\n",
       "      <td>-0.353131</td>\n",
       "    </tr>\n",
       "    <tr>\n",
       "      <th>6496</th>\n",
       "      <td>6496</td>\n",
       "      <td>1</td>\n",
       "      <td>-0.908487</td>\n",
       "      <td>0.140128</td>\n",
       "      <td>-0.402637</td>\n",
       "      <td>-0.843230</td>\n",
       "      <td>1.818294</td>\n",
       "      <td>0.162896</td>\n",
       "      <td>-0.438864</td>\n",
       "      <td>1.494683</td>\n",
       "      <td>...</td>\n",
       "      <td>-0.893053</td>\n",
       "      <td>0.753195</td>\n",
       "      <td>-0.136184</td>\n",
       "      <td>0.0</td>\n",
       "      <td>0.142037</td>\n",
       "      <td>-0.256132</td>\n",
       "      <td>-1.217362</td>\n",
       "      <td>1.232966</td>\n",
       "      <td>0.235493</td>\n",
       "      <td>-0.353131</td>\n",
       "    </tr>\n",
       "    <tr>\n",
       "      <th>6497</th>\n",
       "      <td>6497</td>\n",
       "      <td>1</td>\n",
       "      <td>-0.908487</td>\n",
       "      <td>0.140128</td>\n",
       "      <td>-0.402637</td>\n",
       "      <td>-0.843230</td>\n",
       "      <td>-0.381858</td>\n",
       "      <td>0.162896</td>\n",
       "      <td>-0.438864</td>\n",
       "      <td>1.494683</td>\n",
       "      <td>...</td>\n",
       "      <td>-0.893053</td>\n",
       "      <td>0.753195</td>\n",
       "      <td>-0.136184</td>\n",
       "      <td>0.0</td>\n",
       "      <td>0.142037</td>\n",
       "      <td>-0.256132</td>\n",
       "      <td>-1.217362</td>\n",
       "      <td>1.232966</td>\n",
       "      <td>0.235493</td>\n",
       "      <td>-0.353131</td>\n",
       "    </tr>\n",
       "    <tr>\n",
       "      <th>6498</th>\n",
       "      <td>6498</td>\n",
       "      <td>1</td>\n",
       "      <td>-0.908487</td>\n",
       "      <td>0.953270</td>\n",
       "      <td>1.271378</td>\n",
       "      <td>-0.843230</td>\n",
       "      <td>-1.481934</td>\n",
       "      <td>0.162896</td>\n",
       "      <td>-0.438864</td>\n",
       "      <td>1.494683</td>\n",
       "      <td>...</td>\n",
       "      <td>-0.893053</td>\n",
       "      <td>-0.165567</td>\n",
       "      <td>-0.136184</td>\n",
       "      <td>0.0</td>\n",
       "      <td>0.142037</td>\n",
       "      <td>-0.256132</td>\n",
       "      <td>-1.217362</td>\n",
       "      <td>1.232966</td>\n",
       "      <td>0.235493</td>\n",
       "      <td>-0.353131</td>\n",
       "    </tr>\n",
       "    <tr>\n",
       "      <th>6499</th>\n",
       "      <td>6499</td>\n",
       "      <td>1</td>\n",
       "      <td>-0.908487</td>\n",
       "      <td>0.140128</td>\n",
       "      <td>-0.402637</td>\n",
       "      <td>-0.843230</td>\n",
       "      <td>-0.381858</td>\n",
       "      <td>0.162896</td>\n",
       "      <td>-0.438864</td>\n",
       "      <td>1.494683</td>\n",
       "      <td>...</td>\n",
       "      <td>0.586385</td>\n",
       "      <td>0.753195</td>\n",
       "      <td>0.767702</td>\n",
       "      <td>0.0</td>\n",
       "      <td>0.142037</td>\n",
       "      <td>-0.256132</td>\n",
       "      <td>-1.217362</td>\n",
       "      <td>1.232966</td>\n",
       "      <td>0.235493</td>\n",
       "      <td>-0.353131</td>\n",
       "    </tr>\n",
       "  </tbody>\n",
       "</table>\n",
       "<p>6500 rows × 24 columns</p>\n",
       "</div>"
      ],
      "text/plain": [
       "      mushroom_id  class  cap-shape  cap-surface  cap-color   bruises  \\\n",
       "0               0      1   1.020564     0.140128   1.271378  1.185917   \n",
       "1               1      0   1.020564     0.140128  -1.239645  1.185917   \n",
       "2               2      0  -1.873013     0.140128  -1.239645  1.185917   \n",
       "3               3      1   1.020564     0.953270  -1.239645  1.185917   \n",
       "4               4      0   1.020564     0.140128   0.434370 -0.843230   \n",
       "...           ...    ...        ...          ...        ...       ...   \n",
       "6495         6495      1  -0.908487     0.953270   1.271378 -0.843230   \n",
       "6496         6496      1  -0.908487     0.140128  -0.402637 -0.843230   \n",
       "6497         6497      1  -0.908487     0.140128  -0.402637 -0.843230   \n",
       "6498         6498      1  -0.908487     0.953270   1.271378 -0.843230   \n",
       "6499         6499      1  -0.908487     0.140128  -0.402637 -0.843230   \n",
       "\n",
       "          odor  gill-attachment  gill-spacing  gill-size  ...  \\\n",
       "0    -1.481934         0.162896     -0.438864   1.494683  ...   \n",
       "1    -1.481934         0.162896     -0.438864  -0.669038  ...   \n",
       "2    -1.481934         0.162896     -0.438864  -0.669038  ...   \n",
       "3    -1.481934         0.162896     -0.438864   1.494683  ...   \n",
       "4     0.718218         0.162896      2.278612  -0.669038  ...   \n",
       "...        ...              ...           ...        ...  ...   \n",
       "6495  1.818294         0.162896     -0.438864   1.494683  ...   \n",
       "6496  1.818294         0.162896     -0.438864   1.494683  ...   \n",
       "6497 -0.381858         0.162896     -0.438864   1.494683  ...   \n",
       "6498 -1.481934         0.162896     -0.438864   1.494683  ...   \n",
       "6499 -0.381858         0.162896     -0.438864   1.494683  ...   \n",
       "\n",
       "      stalk-surface-below-ring  stalk-color-above-ring  \\\n",
       "0                     0.586385                0.753195   \n",
       "1                     0.586385                0.753195   \n",
       "2                     0.586385                0.753195   \n",
       "3                     0.586385                0.753195   \n",
       "4                     0.586385                0.753195   \n",
       "...                        ...                     ...   \n",
       "6495                  0.586385                0.753195   \n",
       "6496                 -0.893053                0.753195   \n",
       "6497                 -0.893053                0.753195   \n",
       "6498                 -0.893053               -0.165567   \n",
       "6499                  0.586385                0.753195   \n",
       "\n",
       "      stalk-color-below-ring  veil-type  veil-color  ring-number  ring-type  \\\n",
       "0                   0.767702        0.0    0.142037    -0.256132   0.944826   \n",
       "1                   0.767702        0.0    0.142037    -0.256132   0.944826   \n",
       "2                   0.767702        0.0    0.142037    -0.256132   0.944826   \n",
       "3                   0.767702        0.0    0.142037    -0.256132   0.944826   \n",
       "4                   0.767702        0.0    0.142037    -0.256132  -1.217362   \n",
       "...                      ...        ...         ...          ...        ...   \n",
       "6495               -0.136184        0.0    0.142037    -0.256132  -1.217362   \n",
       "6496               -0.136184        0.0    0.142037    -0.256132  -1.217362   \n",
       "6497               -0.136184        0.0    0.142037    -0.256132  -1.217362   \n",
       "6498               -0.136184        0.0    0.142037    -0.256132  -1.217362   \n",
       "6499                0.767702        0.0    0.142037    -0.256132  -1.217362   \n",
       "\n",
       "      spore-print-color  population   habitat  \n",
       "0             -0.524335   -0.836896 -1.395586  \n",
       "1              0.354315   -1.909285  0.689324  \n",
       "2              0.354315   -1.909285 -1.395586  \n",
       "3             -0.524335   -0.836896 -1.395586  \n",
       "4              0.354315   -1.909285  0.689324  \n",
       "...                 ...         ...       ...  \n",
       "6495           1.232966    0.235493 -0.353131  \n",
       "6496           1.232966    0.235493 -0.353131  \n",
       "6497           1.232966    0.235493 -0.353131  \n",
       "6498           1.232966    0.235493 -0.353131  \n",
       "6499           1.232966    0.235493 -0.353131  \n",
       "\n",
       "[6500 rows x 24 columns]"
      ]
     },
     "execution_count": 47,
     "metadata": {},
     "output_type": "execute_result"
    }
   ],
   "source": [
    "train_df"
   ]
  },
  {
   "cell_type": "code",
   "execution_count": 48,
   "id": "610dea8f",
   "metadata": {},
   "outputs": [],
   "source": [
    "test_df = test_df.drop([\"class\"], axis=1)"
   ]
  },
  {
   "cell_type": "code",
   "execution_count": 49,
   "id": "b23a371a",
   "metadata": {},
   "outputs": [
    {
     "data": {
      "text/html": [
       "<div>\n",
       "<style scoped>\n",
       "    .dataframe tbody tr th:only-of-type {\n",
       "        vertical-align: middle;\n",
       "    }\n",
       "\n",
       "    .dataframe tbody tr th {\n",
       "        vertical-align: top;\n",
       "    }\n",
       "\n",
       "    .dataframe thead th {\n",
       "        text-align: right;\n",
       "    }\n",
       "</style>\n",
       "<table border=\"1\" class=\"dataframe\">\n",
       "  <thead>\n",
       "    <tr style=\"text-align: right;\">\n",
       "      <th></th>\n",
       "      <th>mushroom_id</th>\n",
       "      <th>cap-shape</th>\n",
       "      <th>cap-surface</th>\n",
       "      <th>cap-color</th>\n",
       "      <th>bruises</th>\n",
       "      <th>odor</th>\n",
       "      <th>gill-attachment</th>\n",
       "      <th>gill-spacing</th>\n",
       "      <th>gill-size</th>\n",
       "      <th>gill-color</th>\n",
       "      <th>...</th>\n",
       "      <th>stalk-surface-below-ring</th>\n",
       "      <th>stalk-color-above-ring</th>\n",
       "      <th>stalk-color-below-ring</th>\n",
       "      <th>veil-type</th>\n",
       "      <th>veil-color</th>\n",
       "      <th>ring-number</th>\n",
       "      <th>ring-type</th>\n",
       "      <th>spore-print-color</th>\n",
       "      <th>population</th>\n",
       "      <th>habitat</th>\n",
       "    </tr>\n",
       "  </thead>\n",
       "  <tbody>\n",
       "    <tr>\n",
       "      <th>6500</th>\n",
       "      <td>6500</td>\n",
       "      <td>-0.908487</td>\n",
       "      <td>0.140128</td>\n",
       "      <td>1.271378</td>\n",
       "      <td>-0.84323</td>\n",
       "      <td>-0.381858</td>\n",
       "      <td>0.162896</td>\n",
       "      <td>-0.438864</td>\n",
       "      <td>1.494683</td>\n",
       "      <td>-0.021527</td>\n",
       "      <td>...</td>\n",
       "      <td>0.586385</td>\n",
       "      <td>-0.165567</td>\n",
       "      <td>-0.136184</td>\n",
       "      <td>0.0</td>\n",
       "      <td>0.142037</td>\n",
       "      <td>-0.256132</td>\n",
       "      <td>-1.217362</td>\n",
       "      <td>1.232966</td>\n",
       "      <td>0.235493</td>\n",
       "      <td>-0.353131</td>\n",
       "    </tr>\n",
       "    <tr>\n",
       "      <th>6501</th>\n",
       "      <td>6501</td>\n",
       "      <td>0.056038</td>\n",
       "      <td>0.953270</td>\n",
       "      <td>-0.402637</td>\n",
       "      <td>-0.84323</td>\n",
       "      <td>-1.481934</td>\n",
       "      <td>0.162896</td>\n",
       "      <td>-0.438864</td>\n",
       "      <td>1.494683</td>\n",
       "      <td>-0.021527</td>\n",
       "      <td>...</td>\n",
       "      <td>0.586385</td>\n",
       "      <td>-0.165567</td>\n",
       "      <td>-0.136184</td>\n",
       "      <td>0.0</td>\n",
       "      <td>0.142037</td>\n",
       "      <td>-0.256132</td>\n",
       "      <td>-1.217362</td>\n",
       "      <td>1.232966</td>\n",
       "      <td>0.235493</td>\n",
       "      <td>-0.353131</td>\n",
       "    </tr>\n",
       "    <tr>\n",
       "      <th>6502</th>\n",
       "      <td>6502</td>\n",
       "      <td>-0.908487</td>\n",
       "      <td>0.953270</td>\n",
       "      <td>-0.402637</td>\n",
       "      <td>-0.84323</td>\n",
       "      <td>-0.381858</td>\n",
       "      <td>0.162896</td>\n",
       "      <td>-0.438864</td>\n",
       "      <td>1.494683</td>\n",
       "      <td>-0.021527</td>\n",
       "      <td>...</td>\n",
       "      <td>-0.893053</td>\n",
       "      <td>0.753195</td>\n",
       "      <td>0.767702</td>\n",
       "      <td>0.0</td>\n",
       "      <td>0.142037</td>\n",
       "      <td>-0.256132</td>\n",
       "      <td>-1.217362</td>\n",
       "      <td>1.232966</td>\n",
       "      <td>0.235493</td>\n",
       "      <td>-0.353131</td>\n",
       "    </tr>\n",
       "    <tr>\n",
       "      <th>6503</th>\n",
       "      <td>6503</td>\n",
       "      <td>-0.908487</td>\n",
       "      <td>0.140128</td>\n",
       "      <td>-0.402637</td>\n",
       "      <td>-0.84323</td>\n",
       "      <td>-0.381858</td>\n",
       "      <td>0.162896</td>\n",
       "      <td>-0.438864</td>\n",
       "      <td>1.494683</td>\n",
       "      <td>-0.021527</td>\n",
       "      <td>...</td>\n",
       "      <td>-0.893053</td>\n",
       "      <td>0.753195</td>\n",
       "      <td>-0.136184</td>\n",
       "      <td>0.0</td>\n",
       "      <td>0.142037</td>\n",
       "      <td>-0.256132</td>\n",
       "      <td>-1.217362</td>\n",
       "      <td>1.232966</td>\n",
       "      <td>0.235493</td>\n",
       "      <td>-0.353131</td>\n",
       "    </tr>\n",
       "    <tr>\n",
       "      <th>6504</th>\n",
       "      <td>6504</td>\n",
       "      <td>-0.908487</td>\n",
       "      <td>0.953270</td>\n",
       "      <td>-0.402637</td>\n",
       "      <td>-0.84323</td>\n",
       "      <td>1.818294</td>\n",
       "      <td>0.162896</td>\n",
       "      <td>-0.438864</td>\n",
       "      <td>1.494683</td>\n",
       "      <td>-0.021527</td>\n",
       "      <td>...</td>\n",
       "      <td>0.586385</td>\n",
       "      <td>0.753195</td>\n",
       "      <td>-0.136184</td>\n",
       "      <td>0.0</td>\n",
       "      <td>0.142037</td>\n",
       "      <td>-0.256132</td>\n",
       "      <td>-1.217362</td>\n",
       "      <td>1.232966</td>\n",
       "      <td>0.235493</td>\n",
       "      <td>-0.353131</td>\n",
       "    </tr>\n",
       "    <tr>\n",
       "      <th>...</th>\n",
       "      <td>...</td>\n",
       "      <td>...</td>\n",
       "      <td>...</td>\n",
       "      <td>...</td>\n",
       "      <td>...</td>\n",
       "      <td>...</td>\n",
       "      <td>...</td>\n",
       "      <td>...</td>\n",
       "      <td>...</td>\n",
       "      <td>...</td>\n",
       "      <td>...</td>\n",
       "      <td>...</td>\n",
       "      <td>...</td>\n",
       "      <td>...</td>\n",
       "      <td>...</td>\n",
       "      <td>...</td>\n",
       "      <td>...</td>\n",
       "      <td>...</td>\n",
       "      <td>...</td>\n",
       "      <td>...</td>\n",
       "      <td>...</td>\n",
       "    </tr>\n",
       "    <tr>\n",
       "      <th>8119</th>\n",
       "      <td>8119</td>\n",
       "      <td>0.056038</td>\n",
       "      <td>0.140128</td>\n",
       "      <td>1.271378</td>\n",
       "      <td>-0.84323</td>\n",
       "      <td>0.718218</td>\n",
       "      <td>-6.138869</td>\n",
       "      <td>-0.438864</td>\n",
       "      <td>-0.669038</td>\n",
       "      <td>-0.922978</td>\n",
       "      <td>...</td>\n",
       "      <td>0.586385</td>\n",
       "      <td>-2.003092</td>\n",
       "      <td>-1.943955</td>\n",
       "      <td>0.0</td>\n",
       "      <td>-3.979055</td>\n",
       "      <td>-0.256132</td>\n",
       "      <td>0.944826</td>\n",
       "      <td>-1.402985</td>\n",
       "      <td>-1.909285</td>\n",
       "      <td>-1.395586</td>\n",
       "    </tr>\n",
       "    <tr>\n",
       "      <th>8120</th>\n",
       "      <td>8120</td>\n",
       "      <td>1.020564</td>\n",
       "      <td>0.140128</td>\n",
       "      <td>1.271378</td>\n",
       "      <td>-0.84323</td>\n",
       "      <td>0.718218</td>\n",
       "      <td>-6.138869</td>\n",
       "      <td>-0.438864</td>\n",
       "      <td>-0.669038</td>\n",
       "      <td>-0.922978</td>\n",
       "      <td>...</td>\n",
       "      <td>0.586385</td>\n",
       "      <td>-2.003092</td>\n",
       "      <td>-1.943955</td>\n",
       "      <td>0.0</td>\n",
       "      <td>-8.100146</td>\n",
       "      <td>-0.256132</td>\n",
       "      <td>0.944826</td>\n",
       "      <td>-1.402985</td>\n",
       "      <td>0.235493</td>\n",
       "      <td>-1.395586</td>\n",
       "    </tr>\n",
       "    <tr>\n",
       "      <th>8121</th>\n",
       "      <td>8121</td>\n",
       "      <td>-0.908487</td>\n",
       "      <td>0.140128</td>\n",
       "      <td>1.271378</td>\n",
       "      <td>-0.84323</td>\n",
       "      <td>0.718218</td>\n",
       "      <td>-6.138869</td>\n",
       "      <td>-0.438864</td>\n",
       "      <td>-0.669038</td>\n",
       "      <td>-0.922978</td>\n",
       "      <td>...</td>\n",
       "      <td>0.586385</td>\n",
       "      <td>-2.003092</td>\n",
       "      <td>-1.943955</td>\n",
       "      <td>0.0</td>\n",
       "      <td>-3.979055</td>\n",
       "      <td>-0.256132</td>\n",
       "      <td>0.944826</td>\n",
       "      <td>-1.402985</td>\n",
       "      <td>-1.909285</td>\n",
       "      <td>-1.395586</td>\n",
       "    </tr>\n",
       "    <tr>\n",
       "      <th>8122</th>\n",
       "      <td>8122</td>\n",
       "      <td>0.056038</td>\n",
       "      <td>0.953270</td>\n",
       "      <td>1.271378</td>\n",
       "      <td>-0.84323</td>\n",
       "      <td>1.818294</td>\n",
       "      <td>0.162896</td>\n",
       "      <td>-0.438864</td>\n",
       "      <td>1.494683</td>\n",
       "      <td>-0.021527</td>\n",
       "      <td>...</td>\n",
       "      <td>-0.893053</td>\n",
       "      <td>0.753195</td>\n",
       "      <td>0.767702</td>\n",
       "      <td>0.0</td>\n",
       "      <td>0.142037</td>\n",
       "      <td>-0.256132</td>\n",
       "      <td>-1.217362</td>\n",
       "      <td>1.232966</td>\n",
       "      <td>0.235493</td>\n",
       "      <td>-1.395586</td>\n",
       "    </tr>\n",
       "    <tr>\n",
       "      <th>8123</th>\n",
       "      <td>8123</td>\n",
       "      <td>1.020564</td>\n",
       "      <td>0.140128</td>\n",
       "      <td>1.271378</td>\n",
       "      <td>-0.84323</td>\n",
       "      <td>0.718218</td>\n",
       "      <td>-6.138869</td>\n",
       "      <td>-0.438864</td>\n",
       "      <td>-0.669038</td>\n",
       "      <td>-0.922978</td>\n",
       "      <td>...</td>\n",
       "      <td>0.586385</td>\n",
       "      <td>-2.003092</td>\n",
       "      <td>-1.943955</td>\n",
       "      <td>0.0</td>\n",
       "      <td>-3.979055</td>\n",
       "      <td>-0.256132</td>\n",
       "      <td>0.944826</td>\n",
       "      <td>-1.402985</td>\n",
       "      <td>-1.909285</td>\n",
       "      <td>-1.395586</td>\n",
       "    </tr>\n",
       "  </tbody>\n",
       "</table>\n",
       "<p>1624 rows × 23 columns</p>\n",
       "</div>"
      ],
      "text/plain": [
       "      mushroom_id  cap-shape  cap-surface  cap-color  bruises      odor  \\\n",
       "6500         6500  -0.908487     0.140128   1.271378 -0.84323 -0.381858   \n",
       "6501         6501   0.056038     0.953270  -0.402637 -0.84323 -1.481934   \n",
       "6502         6502  -0.908487     0.953270  -0.402637 -0.84323 -0.381858   \n",
       "6503         6503  -0.908487     0.140128  -0.402637 -0.84323 -0.381858   \n",
       "6504         6504  -0.908487     0.953270  -0.402637 -0.84323  1.818294   \n",
       "...           ...        ...          ...        ...      ...       ...   \n",
       "8119         8119   0.056038     0.140128   1.271378 -0.84323  0.718218   \n",
       "8120         8120   1.020564     0.140128   1.271378 -0.84323  0.718218   \n",
       "8121         8121  -0.908487     0.140128   1.271378 -0.84323  0.718218   \n",
       "8122         8122   0.056038     0.953270   1.271378 -0.84323  1.818294   \n",
       "8123         8123   1.020564     0.140128   1.271378 -0.84323  0.718218   \n",
       "\n",
       "      gill-attachment  gill-spacing  gill-size  gill-color  ...  \\\n",
       "6500         0.162896     -0.438864   1.494683   -0.021527  ...   \n",
       "6501         0.162896     -0.438864   1.494683   -0.021527  ...   \n",
       "6502         0.162896     -0.438864   1.494683   -0.021527  ...   \n",
       "6503         0.162896     -0.438864   1.494683   -0.021527  ...   \n",
       "6504         0.162896     -0.438864   1.494683   -0.021527  ...   \n",
       "...               ...           ...        ...         ...  ...   \n",
       "8119        -6.138869     -0.438864  -0.669038   -0.922978  ...   \n",
       "8120        -6.138869     -0.438864  -0.669038   -0.922978  ...   \n",
       "8121        -6.138869     -0.438864  -0.669038   -0.922978  ...   \n",
       "8122         0.162896     -0.438864   1.494683   -0.021527  ...   \n",
       "8123        -6.138869     -0.438864  -0.669038   -0.922978  ...   \n",
       "\n",
       "      stalk-surface-below-ring  stalk-color-above-ring  \\\n",
       "6500                  0.586385               -0.165567   \n",
       "6501                  0.586385               -0.165567   \n",
       "6502                 -0.893053                0.753195   \n",
       "6503                 -0.893053                0.753195   \n",
       "6504                  0.586385                0.753195   \n",
       "...                        ...                     ...   \n",
       "8119                  0.586385               -2.003092   \n",
       "8120                  0.586385               -2.003092   \n",
       "8121                  0.586385               -2.003092   \n",
       "8122                 -0.893053                0.753195   \n",
       "8123                  0.586385               -2.003092   \n",
       "\n",
       "      stalk-color-below-ring  veil-type  veil-color  ring-number  ring-type  \\\n",
       "6500               -0.136184        0.0    0.142037    -0.256132  -1.217362   \n",
       "6501               -0.136184        0.0    0.142037    -0.256132  -1.217362   \n",
       "6502                0.767702        0.0    0.142037    -0.256132  -1.217362   \n",
       "6503               -0.136184        0.0    0.142037    -0.256132  -1.217362   \n",
       "6504               -0.136184        0.0    0.142037    -0.256132  -1.217362   \n",
       "...                      ...        ...         ...          ...        ...   \n",
       "8119               -1.943955        0.0   -3.979055    -0.256132   0.944826   \n",
       "8120               -1.943955        0.0   -8.100146    -0.256132   0.944826   \n",
       "8121               -1.943955        0.0   -3.979055    -0.256132   0.944826   \n",
       "8122                0.767702        0.0    0.142037    -0.256132  -1.217362   \n",
       "8123               -1.943955        0.0   -3.979055    -0.256132   0.944826   \n",
       "\n",
       "      spore-print-color  population   habitat  \n",
       "6500           1.232966    0.235493 -0.353131  \n",
       "6501           1.232966    0.235493 -0.353131  \n",
       "6502           1.232966    0.235493 -0.353131  \n",
       "6503           1.232966    0.235493 -0.353131  \n",
       "6504           1.232966    0.235493 -0.353131  \n",
       "...                 ...         ...       ...  \n",
       "8119          -1.402985   -1.909285 -1.395586  \n",
       "8120          -1.402985    0.235493 -1.395586  \n",
       "8121          -1.402985   -1.909285 -1.395586  \n",
       "8122           1.232966    0.235493 -1.395586  \n",
       "8123          -1.402985   -1.909285 -1.395586  \n",
       "\n",
       "[1624 rows x 23 columns]"
      ]
     },
     "execution_count": 49,
     "metadata": {},
     "output_type": "execute_result"
    }
   ],
   "source": [
    "test_df"
   ]
  },
  {
   "cell_type": "markdown",
   "id": "224e8951",
   "metadata": {},
   "source": [
    "### csv 파일로 저장"
   ]
  },
  {
   "cell_type": "code",
   "execution_count": 23,
   "id": "b5d39b73",
   "metadata": {},
   "outputs": [],
   "source": [
    "preprocessed_train_path = \"preprocessed train set path\"\n",
    "preprocessed_test_path = \"preprocessed test set path\"\n",
    "train_df.to_csv(preprocessed_train_path, index=False)\n",
    "test_df.to_csv(preprocessed_test_path, index=False)"
   ]
  },
  {
   "cell_type": "markdown",
   "id": "05aa9c3a",
   "metadata": {},
   "source": [
    "### train, test set 읽어오기"
   ]
  },
  {
   "cell_type": "code",
   "execution_count": 51,
   "id": "c4c65fc8",
   "metadata": {},
   "outputs": [],
   "source": [
    "import pandas as pd"
   ]
  },
  {
   "cell_type": "code",
   "execution_count": 52,
   "id": "ef3b78c6",
   "metadata": {},
   "outputs": [],
   "source": [
    "train_df = pd.read_csv(\"./data/mushroom_preprocessed_train.csv\")\n",
    "test_df = pd.read_csv(\"./data/mushroom_preprocessed_test.csv\")"
   ]
  },
  {
   "cell_type": "code",
   "execution_count": 24,
   "id": "c5e93803",
   "metadata": {},
   "outputs": [],
   "source": [
    "test_df"
   ]
  },
  {
   "cell_type": "markdown",
   "id": "49dbd111",
   "metadata": {},
   "source": [
    "### RandomForest 모델 학습시키기"
   ]
  },
  {
   "cell_type": "code",
   "execution_count": 54,
   "id": "dd188aee",
   "metadata": {},
   "outputs": [],
   "source": [
    "x_train = train_df.drop([\"mushroom_id\", \"class\"], axis=1)\n",
    "y_train = train_df[\"class\"]\n",
    "x_test = test_df.drop([\"mushroom_id\"], axis=1)"
   ]
  },
  {
   "cell_type": "code",
   "execution_count": 55,
   "id": "876497a6",
   "metadata": {},
   "outputs": [],
   "source": [
    "from sklearn.model_selection import cross_val_score, KFold\n",
    "\n",
    "kf = KFold(n_splits=10, shuffle=True, random_state=1234)"
   ]
  },
  {
   "cell_type": "code",
   "execution_count": 56,
   "id": "25ab2b60",
   "metadata": {},
   "outputs": [],
   "source": [
    "from sklearn.ensemble import RandomForestClassifier\n",
    "\n",
    "model = RandomForestClassifier(\n",
    "    n_estimators=20,\n",
    "    criterion=\"entropy\",\n",
    "    max_depth=7,\n",
    "    max_features=3,\n",
    "    random_state=1234\n",
    ")"
   ]
  },
  {
   "cell_type": "code",
   "execution_count": 57,
   "id": "114d48de",
   "metadata": {},
   "outputs": [],
   "source": [
    "scores = cross_val_score(model, x_train, y_train, cv=kf)"
   ]
  },
  {
   "cell_type": "code",
   "execution_count": 25,
   "id": "f3d0b0dd",
   "metadata": {},
   "outputs": [],
   "source": [
    "scores"
   ]
  },
  {
   "cell_type": "code",
   "execution_count": 59,
   "id": "148474c1",
   "metadata": {},
   "outputs": [
    {
     "data": {
      "text/plain": [
       "1.0"
      ]
     },
     "execution_count": 59,
     "metadata": {},
     "output_type": "execute_result"
    }
   ],
   "source": [
    "scores.mean()"
   ]
  },
  {
   "cell_type": "code",
   "execution_count": 26,
   "id": "2c0cca42",
   "metadata": {},
   "outputs": [],
   "source": [
    "model.fit(x_train, y_train)"
   ]
  },
  {
   "cell_type": "markdown",
   "id": "2620e110",
   "metadata": {},
   "source": [
    "### 시각화"
   ]
  },
  {
   "cell_type": "code",
   "execution_count": 27,
   "id": "dc8241c4",
   "metadata": {},
   "outputs": [],
   "source": [
    "from sklearn.tree import plot_tree\n",
    "from matplotlib import pyplot as plt\n",
    "\n",
    "plt.figure(figsize=(30,10))\n",
    "feature_names = x_train.columns.to_list()\n",
    "_ = plot_tree(\n",
    "    model.estimators_[9],\n",
    "    filled=True,\n",
    "    rounded=True,\n",
    "    feature_names=feature_names\n",
    ")"
   ]
  },
  {
   "cell_type": "code",
   "execution_count": 62,
   "id": "1af66f66",
   "metadata": {},
   "outputs": [],
   "source": [
    "# stratified KFold validation\n",
    "from sklearn.model_selection import StratifiedKFold\n",
    "\n",
    "stratified_kf = StratifiedKFold(n_splits=10, shuffle=True, random_state=1234)"
   ]
  },
  {
   "cell_type": "code",
   "execution_count": null,
   "id": "8866024a",
   "metadata": {},
   "outputs": [],
   "source": []
  },
  {
   "cell_type": "code",
   "execution_count": 65,
   "id": "bed1aee0",
   "metadata": {},
   "outputs": [],
   "source": [
    "param_grid = {\n",
    "    \"n_estimators\": [10, 20, 30, 50],\n",
    "    \"max_depth\": [3, 5, 7, 10],\n",
    "    \"max_features\": [3, 5, 9]\n",
    "}\n",
    "\n",
    "grid_search = GridSearchCV(\n",
    "    estimator=model,\n",
    "    param_grid=param_grid,\n",
    "    cv=stratified_kf\n",
    ")"
   ]
  },
  {
   "cell_type": "code",
   "execution_count": 28,
   "id": "49c0566d",
   "metadata": {},
   "outputs": [],
   "source": [
    "grid_search.fit(x_train, y_train)"
   ]
  },
  {
   "cell_type": "code",
   "execution_count": 29,
   "id": "677b8dc2",
   "metadata": {},
   "outputs": [],
   "source": [
    "grid_search.best_params_"
   ]
  },
  {
   "cell_type": "code",
   "execution_count": 30,
   "id": "3a5a1bc4",
   "metadata": {},
   "outputs": [],
   "source": [
    "grid_search.best_score_"
   ]
  },
  {
   "cell_type": "code",
   "execution_count": 106,
   "id": "e27598bd",
   "metadata": {},
   "outputs": [],
   "source": [
    "model = RandomForestClassifier(\n",
    "    n_estimators=20,\n",
    "    criterion=\"entropy\",\n",
    "    max_depth=5,\n",
    "    max_features=3,\n",
    "    random_state=1234\n",
    ")"
   ]
  },
  {
   "cell_type": "code",
   "execution_count": 107,
   "id": "f35ad6d8",
   "metadata": {},
   "outputs": [],
   "source": [
    "scores = cross_val_score(model, x_train, y_train, cv=stratified_kf)"
   ]
  },
  {
   "cell_type": "code",
   "execution_count": 31,
   "id": "78b08e32-2284-4ef0-a368-9523d540947e",
   "metadata": {
    "tags": []
   },
   "outputs": [],
   "source": [
    "scores"
   ]
  },
  {
   "cell_type": "code",
   "execution_count": 32,
   "id": "1d7cada9",
   "metadata": {},
   "outputs": [],
   "source": [
    "scores.mean()"
   ]
  },
  {
   "cell_type": "code",
   "execution_count": 33,
   "id": "dcea3878",
   "metadata": {},
   "outputs": [],
   "source": [
    "model.fit(x_train, y_train)"
   ]
  },
  {
   "cell_type": "code",
   "execution_count": 34,
   "id": "76238ba8",
   "metadata": {},
   "outputs": [],
   "source": [
    "model.feature_importances_"
   ]
  },
  {
   "cell_type": "code",
   "execution_count": 36,
   "id": "e8138165",
   "metadata": {},
   "outputs": [],
   "source": [
    "ser = pd.Series(model.feature_importances_, index=df.columns[2:])\n",
    "\n",
    "top10 = ser.sort_values(ascending=False)[:10]\n",
    "print(top10)"
   ]
  },
  {
   "cell_type": "code",
   "execution_count": 37,
   "id": "c1e5421e",
   "metadata": {},
   "outputs": [],
   "source": [
    "import matplotlib.pyplot as plt\n",
    "import seaborn as sns\n",
    "\n",
    "plt.figure(figsize=(8,6))\n",
    "plt.title('Feature Importances Top 10')\n",
    "sns.barplot(x=top10, y=top10.index)\n",
    "plt.show()"
   ]
  },
  {
   "cell_type": "markdown",
   "id": "b1e54ff3",
   "metadata": {},
   "source": [
    "### 제출(RandomForest Version)"
   ]
  },
  {
   "cell_type": "code",
   "execution_count": 77,
   "id": "fdd42680",
   "metadata": {},
   "outputs": [],
   "source": [
    "y_test = model.predict(x_test)"
   ]
  },
  {
   "cell_type": "code",
   "execution_count": 78,
   "id": "86c720ba",
   "metadata": {},
   "outputs": [],
   "source": [
    "test_df[\"class\"] = y_test"
   ]
  },
  {
   "cell_type": "code",
   "execution_count": 79,
   "id": "75259108",
   "metadata": {},
   "outputs": [],
   "source": [
    "test_df[[\"mushroom_id\", \"class\"]].to_csv(\"./data/mushroom_submission_rf.csv\", index=False)"
   ]
  }
 ],
 "metadata": {
  "kernelspec": {
   "display_name": "Python 3 (ipykernel)",
   "language": "python",
   "name": "python3"
  },
  "language_info": {
   "codemirror_mode": {
    "name": "ipython",
    "version": 3
   },
   "file_extension": ".py",
   "mimetype": "text/x-python",
   "name": "python",
   "nbconvert_exporter": "python",
   "pygments_lexer": "ipython3",
   "version": "3.11.5"
  }
 },
 "nbformat": 4,
 "nbformat_minor": 5
}
